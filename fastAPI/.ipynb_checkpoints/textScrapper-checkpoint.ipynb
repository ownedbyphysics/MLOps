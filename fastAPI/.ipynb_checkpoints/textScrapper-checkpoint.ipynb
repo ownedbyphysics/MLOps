{
 "cells": [
  {
   "cell_type": "markdown",
   "metadata": {},
   "source": [
    "### Importing Libraries"
   ]
  },
  {
   "cell_type": "code",
   "execution_count": 1,
   "metadata": {},
   "outputs": [
    {
     "name": "stderr",
     "output_type": "stream",
     "text": [
      "[nltk_data] Downloading package punkt to\n",
      "[nltk_data]     C:\\Users\\georgs56\\AppData\\Roaming\\nltk_data...\n",
      "[nltk_data]   Package punkt is already up-to-date!\n"
     ]
    },
    {
     "data": {
      "text/plain": [
       "True"
      ]
     },
     "execution_count": 1,
     "metadata": {},
     "output_type": "execute_result"
    }
   ],
   "source": [
    "import requests\n",
    "from bs4 import BeautifulSoup\n",
    "import pandas as pd\n",
    "from nltk.tokenize import sent_tokenize\n",
    "import re\n",
    "import nltk\n",
    "nltk.download('punkt')"
   ]
  },
  {
   "cell_type": "code",
   "execution_count": 2,
   "metadata": {},
   "outputs": [],
   "source": [
    "# Language codes for Wikipedia\n",
    "language_codes = [\"en\", \"ml\", \"hi\", \"ta\", \"pt\", \"fr\", \"nl\", \"es\", \"el\", \"ru\", \"da\", \"it\", \"tr\", \"sv\", \"ar\"]\n",
    "\n",
    "# Create a dictionary to store text data\n",
    "data_dict = {lang: [] for lang in language_codes}"
   ]
  },
  {
   "cell_type": "code",
   "execution_count": 3,
   "metadata": {},
   "outputs": [
    {
     "name": "stdout",
     "output_type": "stream",
     "text": [
      "Translated title: Nature-> Φύση\n"
     ]
    }
   ],
   "source": [
    "def get_wikipedia_title(topic, lang_code):\n",
    "    \"\"\"Fetches the correct Wikipedia page title in the specified language\"\"\"\n",
    "    \n",
    "    # Wikipedia API endpoint\n",
    "    url = \"https://en.wikipedia.org/w/api.php\"\n",
    "    \n",
    "    # API parameters\n",
    "    params = {\n",
    "        \"action\": \"query\",\n",
    "        \"format\": \"json\",\n",
    "        \"titles\": topic,\n",
    "        \"prop\": \"langlinks\",\n",
    "        \"lllimit\": \"500\"  # Increase the limit to get more translations\n",
    "    }\n",
    "    \n",
    "    # Make the request\n",
    "    response = requests.get(url, params=params)\n",
    "    data = response.json()\n",
    "    \n",
    "    # Extract the page ID\n",
    "    page_data = list(data[\"query\"][\"pages\"].values())[0]\n",
    "\n",
    "    if \"langlinks\" in page_data:\n",
    "        for link in page_data[\"langlinks\"]:\n",
    "            if link[\"lang\"] == lang_code:\n",
    "                return link[\"*\"]  # Return the translated title\n",
    "\n",
    "    return None  # If translation not found, return None\n",
    "\n",
    "# Example usage\n",
    "topic = \"Nature\"\n",
    "translated_title = get_wikipedia_title(topic, \"el\")  # Greek\n",
    "print(\"Translated title: \"+ topic + '->', translated_title)\n"
   ]
  },
  {
   "cell_type": "code",
   "execution_count": null,
   "metadata": {},
   "outputs": [
    {
     "name": "stdout",
     "output_type": "stream",
     "text": [
      "Physics\n",
      "Scraping: https://en.wikipedia.org/wiki/Physics\n",
      "\n",
      "ഭൗതികശാസ്ത്രം\n",
      "Scraping: https://ml.wikipedia.org/wiki/ഭൗതികശാസ്ത്രം\n",
      "\n",
      "भौतिक शास्त्र\n",
      "Scraping: https://hi.wikipedia.org/wiki/भौतिक शास्त्र\n",
      "\n",
      "இயற்பியல்\n",
      "Scraping: https://ta.wikipedia.org/wiki/இயற்பியல்\n",
      "\n",
      "Física\n",
      "Scraping: https://pt.wikipedia.org/wiki/Física\n",
      "\n",
      "Physique\n",
      "Scraping: https://fr.wikipedia.org/wiki/Physique\n",
      "\n",
      "Natuurkunde\n",
      "Scraping: https://nl.wikipedia.org/wiki/Natuurkunde\n",
      "\n",
      "Física\n",
      "Scraping: https://es.wikipedia.org/wiki/Física\n",
      "\n",
      "Φυσική\n",
      "Scraping: https://el.wikipedia.org/wiki/Φυσική\n",
      "\n",
      "Физика\n",
      "Scraping: https://ru.wikipedia.org/wiki/Физика\n",
      "\n",
      "Fysik\n",
      "Scraping: https://da.wikipedia.org/wiki/Fysik\n",
      "\n",
      "Fisica\n",
      "Scraping: https://it.wikipedia.org/wiki/Fisica\n",
      "\n",
      "Fizik\n",
      "Scraping: https://tr.wikipedia.org/wiki/Fizik\n",
      "\n",
      "Fysik\n",
      "Scraping: https://sv.wikipedia.org/wiki/Fysik\n",
      "\n",
      "فيزياء\n",
      "Scraping: https://ar.wikipedia.org/wiki/فيزياء\n",
      "\n",
      "Mathematics\n",
      "Scraping: https://en.wikipedia.org/wiki/Mathematics\n",
      "\n",
      "ഗണിതം\n",
      "Scraping: https://ml.wikipedia.org/wiki/ഗണിതം\n",
      "\n",
      "गणित\n",
      "Scraping: https://hi.wikipedia.org/wiki/गणित\n",
      "\n",
      "கணிதம்\n",
      "Scraping: https://ta.wikipedia.org/wiki/கணிதம்\n",
      "\n",
      "Matemática\n",
      "Scraping: https://pt.wikipedia.org/wiki/Matemática\n",
      "\n",
      "Mathématiques\n",
      "Scraping: https://fr.wikipedia.org/wiki/Mathématiques\n",
      "\n",
      "Wiskunde\n",
      "Scraping: https://nl.wikipedia.org/wiki/Wiskunde\n",
      "\n",
      "Matemáticas\n",
      "Scraping: https://es.wikipedia.org/wiki/Matemáticas\n",
      "\n",
      "Μαθηματικά\n",
      "Scraping: https://el.wikipedia.org/wiki/Μαθηματικά\n",
      "\n",
      "Математика\n",
      "Scraping: https://ru.wikipedia.org/wiki/Математика\n",
      "\n",
      "Matematik\n",
      "Scraping: https://da.wikipedia.org/wiki/Matematik\n",
      "\n",
      "Matematica\n",
      "Scraping: https://it.wikipedia.org/wiki/Matematica\n",
      "\n",
      "Matematik\n",
      "Scraping: https://tr.wikipedia.org/wiki/Matematik\n",
      "\n",
      "Matematik\n",
      "Scraping: https://sv.wikipedia.org/wiki/Matematik\n",
      "\n",
      "رياضيات\n",
      "Scraping: https://ar.wikipedia.org/wiki/رياضيات\n",
      "\n",
      "Biology\n",
      "Scraping: https://en.wikipedia.org/wiki/Biology\n",
      "\n",
      "ജീവശാസ്ത്രം\n",
      "Scraping: https://ml.wikipedia.org/wiki/ജീവശാസ്ത്രം\n",
      "\n",
      "जीव विज्ञान\n",
      "Scraping: https://hi.wikipedia.org/wiki/जीव विज्ञान\n",
      "\n",
      "உயிரியல்\n",
      "Scraping: https://ta.wikipedia.org/wiki/உயிரியல்\n",
      "\n",
      "Biologia\n",
      "Scraping: https://pt.wikipedia.org/wiki/Biologia\n",
      "\n",
      "Biologie\n",
      "Scraping: https://fr.wikipedia.org/wiki/Biologie\n",
      "\n",
      "Biologie\n",
      "Scraping: https://nl.wikipedia.org/wiki/Biologie\n",
      "\n",
      "Biología\n",
      "Scraping: https://es.wikipedia.org/wiki/Biología\n",
      "\n",
      "Βιολογία\n",
      "Scraping: https://el.wikipedia.org/wiki/Βιολογία\n",
      "\n",
      "Биология\n",
      "Scraping: https://ru.wikipedia.org/wiki/Биология\n",
      "\n",
      "Biologi\n",
      "Scraping: https://da.wikipedia.org/wiki/Biologi\n",
      "\n",
      "Biologia\n",
      "Scraping: https://it.wikipedia.org/wiki/Biologia\n",
      "\n",
      "Biyoloji\n",
      "Scraping: https://tr.wikipedia.org/wiki/Biyoloji\n",
      "\n",
      "Biologi\n",
      "Scraping: https://sv.wikipedia.org/wiki/Biologi\n",
      "\n",
      "علم الأحياء\n",
      "Scraping: https://ar.wikipedia.org/wiki/علم الأحياء\n",
      "\n",
      "Chemistry\n",
      "Scraping: https://en.wikipedia.org/wiki/Chemistry\n",
      "\n",
      "രസതന്ത്രം\n",
      "Scraping: https://ml.wikipedia.org/wiki/രസതന്ത്രം\n",
      "\n",
      "रसायन विज्ञान\n",
      "Scraping: https://hi.wikipedia.org/wiki/रसायन विज्ञान\n",
      "\n",
      "வேதியியல்\n",
      "Scraping: https://ta.wikipedia.org/wiki/வேதியியல்\n",
      "\n",
      "Química\n",
      "Scraping: https://pt.wikipedia.org/wiki/Química\n",
      "\n",
      "Chimie\n",
      "Scraping: https://fr.wikipedia.org/wiki/Chimie\n",
      "\n",
      "Scheikunde\n",
      "Scraping: https://nl.wikipedia.org/wiki/Scheikunde\n",
      "\n",
      "Química\n",
      "Scraping: https://es.wikipedia.org/wiki/Química\n",
      "\n",
      "Χημεία\n",
      "Scraping: https://el.wikipedia.org/wiki/Χημεία\n",
      "\n",
      "Химия\n",
      "Scraping: https://ru.wikipedia.org/wiki/Химия\n",
      "\n"
     ]
    }
   ],
   "source": [
    "def text_scrap(topic):\n",
    "    \"\"\"Scrapes Wikipedia pages for different languages and stores text data\"\"\"\n",
    "    \n",
    "    for lang in language_codes:\n",
    "        if lang!='en':\n",
    "            translated_title = get_wikipedia_title(topic, lang)\n",
    "            print(translated_title)\n",
    "        else:\n",
    "            print(topic)\n",
    "            translated_title = topic\n",
    "            \n",
    "        \n",
    "        if not translated_title:\n",
    "            print(f\"Could not find a Wikipedia page for '{topic}' in {lang}. Skipping...\")\n",
    "            continue\n",
    "        \n",
    "        url = f\"https://{lang}.wikipedia.org/wiki/{translated_title}\"\n",
    "        print(f\"Scraping: {url}\")\n",
    "        print('')\n",
    "        \n",
    "        try:\n",
    "            request = requests.get(url)\n",
    "            soup = BeautifulSoup(request.text, \"lxml\")\n",
    "            paragraphs = soup.find_all(\"p\")\n",
    "            \n",
    "            for paragraph in paragraphs:\n",
    "                text = paragraph.text.strip()\n",
    "                if text:\n",
    "                    data_dict[lang].append(text)\n",
    "                    \n",
    "        except Exception as e:\n",
    "            print(f\"Error fetching {url}: {e}\")\n",
    "\n",
    "# Example usage\n",
    "topics = ['Physics', 'Mathematics', 'Biology', 'Chemistry', 'Geology']\n",
    "for topic in topics:\n",
    "    text_scrap(topic)\n",
    "\n"
   ]
  },
  {
   "cell_type": "code",
   "execution_count": 9,
   "metadata": {},
   "outputs": [
    {
     "name": "stdout",
     "output_type": "stream",
     "text": [
      "                                            Sentence Language\n",
      "0  Physics is the scientific study of matter, its...       en\n",
      "1  Physics is one of the most fundamental scienti...       en\n",
      "2  A scientist who specializes in the field of ph...       en\n",
      "3  Physics is one of the oldest academic discipli...       en\n",
      "4  Over much of the past two millennia, physics, ...       en\n"
     ]
    }
   ],
   "source": [
    "def split_into_sentences(text):\n",
    "    \"\"\"Splits text into sentences and removes references like [2], [4], etc.\"\"\"\n",
    "    sentences = sent_tokenize(text)  # Tokenize into sentences\n",
    "    cleaned_sentences = [re.sub(r\"\\[\\d+\\]\", \"\", s).strip() for s in sentences]  # Remove references like [2]\n",
    "    return [s for s in cleaned_sentences if s]  # Remove empty sentences\n",
    "\n",
    "# Convert scrapped dict into a structured DataFrame\n",
    "data = []\n",
    "\n",
    "for lang, texts in data_dict.items():\n",
    "    for text in texts:\n",
    "        sentences = split_into_sentences(text)\n",
    "        for sentence in sentences:\n",
    "            data.append({\"Sentence\": sentence, \"Language\": lang})\n",
    "\n",
    "# Create the DataFrame\n",
    "df = pd.DataFrame(data)\n",
    "print(df.head())"
   ]
  },
  {
   "cell_type": "code",
   "execution_count": 10,
   "metadata": {},
   "outputs": [
    {
     "data": {
      "text/plain": [
       "(13318, 2)"
      ]
     },
     "execution_count": 10,
     "metadata": {},
     "output_type": "execute_result"
    }
   ],
   "source": [
    "df.shape"
   ]
  },
  {
   "cell_type": "code",
   "execution_count": 11,
   "metadata": {},
   "outputs": [
    {
     "data": {
      "text/html": [
       "<div>\n",
       "<style scoped>\n",
       "    .dataframe tbody tr th:only-of-type {\n",
       "        vertical-align: middle;\n",
       "    }\n",
       "\n",
       "    .dataframe tbody tr th {\n",
       "        vertical-align: top;\n",
       "    }\n",
       "\n",
       "    .dataframe thead th {\n",
       "        text-align: right;\n",
       "    }\n",
       "</style>\n",
       "<table border=\"1\" class=\"dataframe\">\n",
       "  <thead>\n",
       "    <tr style=\"text-align: right;\">\n",
       "      <th></th>\n",
       "      <th>Sentence</th>\n",
       "      <th>Language</th>\n",
       "    </tr>\n",
       "  </thead>\n",
       "  <tbody>\n",
       "    <tr>\n",
       "      <th>0</th>\n",
       "      <td>Physics is the scientific study of matter, its...</td>\n",
       "      <td>en</td>\n",
       "    </tr>\n",
       "    <tr>\n",
       "      <th>1</th>\n",
       "      <td>Physics is one of the most fundamental scienti...</td>\n",
       "      <td>en</td>\n",
       "    </tr>\n",
       "    <tr>\n",
       "      <th>2</th>\n",
       "      <td>A scientist who specializes in the field of ph...</td>\n",
       "      <td>en</td>\n",
       "    </tr>\n",
       "    <tr>\n",
       "      <th>3</th>\n",
       "      <td>Physics is one of the oldest academic discipli...</td>\n",
       "      <td>en</td>\n",
       "    </tr>\n",
       "    <tr>\n",
       "      <th>4</th>\n",
       "      <td>Over much of the past two millennia, physics, ...</td>\n",
       "      <td>en</td>\n",
       "    </tr>\n",
       "  </tbody>\n",
       "</table>\n",
       "</div>"
      ],
      "text/plain": [
       "                                            Sentence Language\n",
       "0  Physics is the scientific study of matter, its...       en\n",
       "1  Physics is one of the most fundamental scienti...       en\n",
       "2  A scientist who specializes in the field of ph...       en\n",
       "3  Physics is one of the oldest academic discipli...       en\n",
       "4  Over much of the past two millennia, physics, ...       en"
      ]
     },
     "execution_count": 11,
     "metadata": {},
     "output_type": "execute_result"
    }
   ],
   "source": [
    "df.head()"
   ]
  },
  {
   "cell_type": "code",
   "execution_count": 13,
   "metadata": {},
   "outputs": [],
   "source": [
    "# resetting the index\n",
    "df = df.sample(frac=1, random_state=42).reset_index(drop=True)"
   ]
  },
  {
   "cell_type": "code",
   "execution_count": 14,
   "metadata": {},
   "outputs": [],
   "source": [
    "# saving the prepared csv file\n",
    "df.to_csv(\"../scrapped_data/language_detection_dataset.csv\", index=False)\n"
   ]
  },
  {
   "cell_type": "code",
   "execution_count": null,
   "metadata": {},
   "outputs": [],
   "source": []
  }
 ],
 "metadata": {
  "kernelspec": {
   "display_name": "Python 3 (ipykernel)",
   "language": "python",
   "name": "python3"
  },
  "language_info": {
   "codemirror_mode": {
    "name": "ipython",
    "version": 3
   },
   "file_extension": ".py",
   "mimetype": "text/x-python",
   "name": "python",
   "nbconvert_exporter": "python",
   "pygments_lexer": "ipython3",
   "version": "3.9.19"
  }
 },
 "nbformat": 4,
 "nbformat_minor": 4
}
